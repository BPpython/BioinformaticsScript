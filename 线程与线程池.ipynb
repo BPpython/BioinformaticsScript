{
 "cells": [
  {
   "cell_type": "markdown",
   "metadata": {},
   "source": [
    "### 线程的实现\n",
    "#### 多任务的理解 \n",
    "\n",
    "        并发：假的多任务，并非多任务一起运行，而是排队运行\n",
    "        并行： 多核cpu，分开执行多个任务\n",
    "        进程，是最小的单位\n",
    "        线程是程序执行的最小单位\n",
    "        进程包含线程"
   ]
  },
  {
   "cell_type": "markdown",
   "metadata": {},
   "source": []
  },
  {
   "cell_type": "code",
   "execution_count": 3,
   "metadata": {},
   "outputs": [
    {
     "name": "stdout",
     "output_type": "stream",
     "text": [
      "hello\n",
      "world\n",
      "hi\n",
      "hhh\n"
     ]
    }
   ],
   "source": [
    "# 单线程\n",
    "import time\n",
    "def hello():\n",
    "    print('hello')\n",
    "    time.sleep(3)\n",
    "    print('world')\n",
    "def hi():\n",
    "    print('hi')\n",
    "    time.sleep(3)\n",
    "    print('hhh')\n",
    "hello()\n",
    "hi()"
   ]
  },
  {
   "cell_type": "code",
   "execution_count": 9,
   "metadata": {},
   "outputs": [
    {
     "name": "stdout",
     "output_type": "stream",
     "text": [
      "111\n",
      "222\n",
      "main threading\n",
      "111\n",
      "222\n",
      "111\n",
      "222\n",
      "111\n",
      "222\n",
      "111\n",
      "222\n"
     ]
    }
   ],
   "source": [
    "# 多线程\n",
    "import time\n",
    "from threading import Thread # 用来生成线程\n",
    "def sing():\n",
    "    for i in range(5):\n",
    "        print(111)\n",
    "        time.sleep(2)\n",
    "def dance():\n",
    "    for i in range(5):\n",
    "        print(222)\n",
    "        time.sleep(2)\n",
    "t1 = Thread(target=sing) #创建子线程\n",
    "t2 = Thread(target=dance)\n",
    "t1.setDaemon(True) # 主线程结束，子线程也会结束\n",
    "t2.setDaemon(True)\n",
    "\n",
    "t1.start() # 开始子线程，并行，同时进行的\n",
    "t2.start()\n",
    "\n",
    "print('main threading') # 主线程"
   ]
  },
  {
   "cell_type": "code",
   "execution_count": null,
   "metadata": {},
   "outputs": [],
   "source": [
    "# 多线程 传参数，参数必须是元组tuple\n",
    "import time\n",
    "from threading import Thread # 用来生成1个线程\n",
    "def sing(name):\n",
    "    for i in range(5):\n",
    "        print('111'+ name)\n",
    "        time.sleep(2)\n",
    "def dance():\n",
    "    for i in range(5):\n",
    "        print(222)\n",
    "        time.sleep(2)\n",
    "t1 = Thread(target=sing,args = ('aaa',)) #创建子线程\n",
    "t2 = Thread(target=dance)\n",
    "t1.setDaemon(True) # 主线程结束，子线程也会结束\n",
    "t2.setDaemon(True)\n",
    "\n",
    "t1.start() # 开始子线程，并行，同时进行的\n",
    "t2.start()\n",
    "t1.join()  # 线程阻塞，主线程要等到子线程全部结束，才会结束\n",
    "t2.join()\n",
    "print('main threading') # 主线程"
   ]
  },
  {
   "cell_type": "code",
   "execution_count": null,
   "metadata": {},
   "outputs": [],
   "source": [
    "# 通过run方法调用线程，继承Threading 再修改\n",
    "from threading import Thread\n",
    "import time\n",
    "class MyThread(Thread):\n",
    "    def __init__(self,name):\n",
    "        super().__init__()\n",
    "        self.name = name\n",
    "    def run(self):\n",
    "        print('111'+self.name)\n",
    "        time.sleep(3)\n",
    "        print('over')\n",
    "        \n",
    "a = MyThread('aaa')\n",
    "a.start()  # 会自动调用run方法来开始线程"
   ]
  },
  {
   "cell_type": "markdown",
   "metadata": {},
   "source": [
    "## 线程间的通信\n",
    "    线程之间的变量是共享的，但是会产生多个线程同时修改一个变量。资源抢占。\n",
    "    互斥锁，当一个线程在处理的时候就不允许其他线程进入处理"
   ]
  },
  {
   "cell_type": "code",
   "execution_count": null,
   "metadata": {},
   "outputs": [],
   "source": [
    "\n",
    "x = 0\n",
    "n = 1000\n",
    "def a(n):\n",
    "    global x\n",
    "    for i in range(100000):\n",
    "        x +=1\n",
    "def b(n):\n",
    "    global x\n",
    "    for i in range(100000):\n",
    "        x -=1\n",
    "a(n)\n",
    "b(n)\n",
    "print(x)"
   ]
  },
  {
   "cell_type": "code",
   "execution_count": null,
   "metadata": {},
   "outputs": [],
   "source": [
    "from threading import Thread\n",
    "x = 0\n",
    "n = 1000000\n",
    "def a(n):\n",
    "    global x\n",
    "    for i in range(n):\n",
    "        x +=1\n",
    "def b(n):\n",
    "    global x\n",
    "    for i in range(n):\n",
    "        x -=1\n",
    "a = Thread(target=a,args=(n,))\n",
    "b = Thread(target=b,args=(n,))\n",
    "a.start()\n",
    "b.start()\n",
    "a.join()\n",
    "b.join()\n",
    "print(x)"
   ]
  },
  {
   "cell_type": "code",
   "execution_count": null,
   "metadata": {},
   "outputs": [],
   "source": [
    "from threading import Thread\n",
    "from threading import Lock\n",
    "\n",
    "x = 0\n",
    "n = 1000000\n",
    "lock = Lock() #创建锁对象\n",
    "\n",
    "def a(n):\n",
    "    global x\n",
    "    for i in range(n):\n",
    "        lock.acquire()  # 加锁\n",
    "        x +=1\n",
    "        lock.release() #解锁\n",
    "def b(n):\n",
    "    global x\n",
    "    for i in range(n):\n",
    "        lock.acquire()\n",
    "        x -=1\n",
    "        lock.release()\n",
    "a = Thread(target=a,args=(n,))\n",
    "b = Thread(target=b,args=(n,))\n",
    "a.start()\n",
    "b.start()\n",
    "a.join()\n",
    "b.join()\n",
    "print(x)"
   ]
  },
  {
   "cell_type": "code",
   "execution_count": null,
   "metadata": {},
   "outputs": [],
   "source": [
    "from threading import Thread\n",
    "from threading import Lock\n",
    "\n",
    "x = 100\n",
    "n = 1000000\n",
    "lock = Lock() #创建锁对象\n",
    "\n",
    "def a(n):\n",
    "    global x\n",
    "    for i in range(n):\n",
    "        lock.acquire()  # 加锁\n",
    "        x +=1\n",
    "        lock.release() #解锁\n",
    "def b(n):\n",
    "    global x\n",
    "    for i in range(n):\n",
    "    \n",
    "        x -=1\n",
    "\n",
    "a = Thread(target=a,args=(n,))\n",
    "b = Thread(target=b,args=(n,))\n",
    "a.start()\n",
    "b.start()\n",
    "a.join()\n",
    "b.join()\n",
    "print(x)"
   ]
  },
  {
   "cell_type": "markdown",
   "metadata": {},
   "source": [
    "### 队列——先进先出\n",
    "        栈—— 先进后出"
   ]
  },
  {
   "cell_type": "code",
   "execution_count": null,
   "metadata": {},
   "outputs": [],
   "source": [
    "import queue\n",
    "q = queue.Queue(4)\n",
    "q.put(1)  # 加入队列\n",
    "q.put('hh')\n",
    "q.put(3)\n",
    "q.put(4)\n",
    "print(q.get()) # 获取\n",
    "print(q.get())\n",
    "print(q.get())\n",
    "print(q.get())\n",
    "q.task_done()\n",
    "q.task_done()\n",
    "q.task_done()\n",
    "q.task_done()\n",
    "q.join() # 没有取完不可以结束任务"
   ]
  },
  {
   "cell_type": "markdown",
   "metadata": {},
   "source": [
    "主线程：相当于生产者，只管向线程池提交任务\n",
    "线程池：负责接受任务和分配任务到一个空闲的线程中执行，线程的开启不宜过多、\n",
    "谁先执行完谁先走，后一个补上前一个刚完成的任务"
   ]
  },
  {
   "cell_type": "code",
   "execution_count": 9,
   "metadata": {},
   "outputs": [
    {
     "name": "stdout",
     "output_type": "stream",
     "text": [
      "submition over\n",
      "222\n",
      "111\n",
      "333\n",
      "all over\n"
     ]
    }
   ],
   "source": [
    "from multiprocessing.pool import ThreadPool\n",
    "import time\n",
    "pool = ThreadPool(2) # 创建含有两个线程的线程池\n",
    "def task1():\n",
    "    time.sleep(10)\n",
    "    print(111)\n",
    "def task2():\n",
    "    time.sleep(1)\n",
    "    print(222)\n",
    "def task3():\n",
    "    time.sleep(10)\n",
    "    print(333)\n",
    "    \n",
    "pool.apply_async(task1) #往线程池里添加任务，会自动运行\n",
    "pool.apply_async(task2)\n",
    "pool.apply_async(task3)\n",
    "print('submition over')\n",
    "pool.close()\n",
    "pool.join()\n",
    "print('all over')"
   ]
  },
  {
   "cell_type": "markdown",
   "metadata": {},
   "source": [
    "from threading "
   ]
  },
  {
   "cell_type": "code",
   "execution_count": null,
   "metadata": {},
   "outputs": [],
   "source": []
  },
  {
   "cell_type": "code",
   "execution_count": null,
   "metadata": {},
   "outputs": [],
   "source": [
    "import queue\n",
    "q = queue.Queue(4)\n",
    "q.put(1)  # 加入队列\n",
    "q.put('hh')\n",
    "q.put(3)\n",
    "q.put(4)\n",
    "print(q.get()) # 获取\n",
    "print(q.get())\n",
    "print(q.get())\n",
    "print(q.get())\n",
    "q.task_done()\n",
    "q.task_done()\n",
    "q.task_done()\n",
    "q.task_done()\n",
    "q.join() # 没有取完不可以结束任务"
   ]
  }
 ],
 "metadata": {
  "kernelspec": {
   "display_name": "Python 3",
   "language": "python",
   "name": "python3"
  },
  "language_info": {
   "codemirror_mode": {
    "name": "ipython",
    "version": 3
   },
   "file_extension": ".py",
   "mimetype": "text/x-python",
   "name": "python",
   "nbconvert_exporter": "python",
   "pygments_lexer": "ipython3",
   "version": "3.7.4"
  }
 },
 "nbformat": 4,
 "nbformat_minor": 2
}
