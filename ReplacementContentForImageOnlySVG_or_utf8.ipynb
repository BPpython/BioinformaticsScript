{
 "cells": [
  {
   "cell_type": "code",
   "execution_count": 40,
   "metadata": {},
   "outputs": [],
   "source": [
    "def ReplacementContentForImageOnlySVG_or_utf8():\n",
    "    \"\"\"\n",
    "    Use tabs to split\n",
    "    OldContent    NewContent\n",
    "    OldContent    NewContent\n",
    "    OldContent    NewContent\n",
    "    \"\"\"\n",
    "    print(ReplacementContentForImageOnlySVG_or_utf8.__doc__)\n",
    "    graph_path = input(\"Image file path: \")\n",
    "    content_path = input(\"Replace content path: \")\n",
    "    try:\n",
    "        # open the file\n",
    "        with open(graph_path) as file:\n",
    "            df = file.read()\n",
    "            print(\"File completed\")\n",
    "        # open the file_1\n",
    "        with open(content_path) as file_1:\n",
    "            df_1 = file_1.readlines()\n",
    "            print(\"File_1 completed\")\n",
    "            for i in df_1:\n",
    "                i = i.split(\"\\t\")\n",
    "                df = df.replace(i[0].strip(),i[1].strip())\n",
    "        # write the file_2\n",
    "        with open(graph_path+\".svg\",\"w\") as file_2:\n",
    "            file_2.write(df)\n",
    "            print(\"File_2 completed\")\n",
    "        print(\"replacement completed\")\n",
    "    except FileNotFoundError as e:\n",
    "        print(\"\\n\\nAn error occurred. No file was found. Please check the path or file name and re-enter.\\n\\n\",e)"
   ]
  },
  {
   "cell_type": "code",
   "execution_count": 41,
   "metadata": {},
   "outputs": [
    {
     "name": "stdout",
     "output_type": "stream",
     "text": [
      "\n",
      "    Use tabs to split\n",
      "    OldContent    NewContent\n",
      "    OldContent    NewContent\n",
      "    OldContent    NewContent\n",
      "    \n"
     ]
    },
    {
     "name": "stdin",
     "output_type": "stream",
     "text": [
      "Image file path:  a\n",
      "Replace content path:  a\n"
     ]
    },
    {
     "name": "stdout",
     "output_type": "stream",
     "text": [
      "\n",
      "\n",
      "An error occurred. No file was found. Please check the path or file name and re-enter.\n",
      "\n",
      " [Errno 2] No such file or directory: 'a'\n"
     ]
    }
   ],
   "source": [
    "# print(ReplacementContentForImageOnlySVG_or_utf8.__doc__)\n",
    "ReplacementContentForImageOnlySVG_or_utf8()"
   ]
  },
  {
   "cell_type": "code",
   "execution_count": null,
   "metadata": {},
   "outputs": [],
   "source": []
  }
 ],
 "metadata": {
  "kernelspec": {
   "display_name": "Python 3",
   "language": "python",
   "name": "python3"
  },
  "language_info": {
   "codemirror_mode": {
    "name": "ipython",
    "version": 3
   },
   "file_extension": ".py",
   "mimetype": "text/x-python",
   "name": "python",
   "nbconvert_exporter": "python",
   "pygments_lexer": "ipython3",
   "version": "3.7.3"
  }
 },
 "nbformat": 4,
 "nbformat_minor": 4
}
