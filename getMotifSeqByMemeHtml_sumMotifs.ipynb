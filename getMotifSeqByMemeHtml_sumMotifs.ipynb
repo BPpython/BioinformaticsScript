{
 "cells": [],
 "metadata": {
  "kernelspec": {
   "display_name": "Python 3",
   "language": "python",
   "name": "python3"
  },
  "language_info": {
   "codemirror_mode": {
    "name": "ipython",
    "version": 3
   },
   "file_extension": ".py",
   "mimetype": "text/x-python",
   "name": "python",
   "nbconvert_exporter": "python",
   "pygments_lexer": "ipython3",
   "version": "3.7.3"
  },
  "pycharm": {
   "stem_cell": {
    "cell_type": "raw",
    "source": [
     "import os\n",
     "import json\n",
     "from bs4 import BeautifulSoup\n",
     "# 从nameList里获取对应的基因名字\n",
     "def getGeneNameBySeqNum(num,nameList):\n",
     "    return nameList[num][\"name\"]\n",
     "\n",
     "def getMotifSeqByMemeHtml(path):\n",
     "    \n",
     "    try:\n",
     "        html = open(path,'r').read()\n",
     "        soup = BeautifulSoup(html,\"html.parser\")\n",
     "        # json.loads(soup.find(\"script\").get_text())\n",
     "        file = str(soup.find(\"script\")).strip().replace(\"\\n\",\"\")\n",
     "        file = file.replace(\" \",\"\")\n",
     "        file = file.replace(\";</script>\",\"\")\n",
     "        file = file.replace(\"<script>//@JSON_VARdatavardata=\",\"\")\n",
     "        jsonDict = json.loads(file)\n",
     "        nameList = jsonDict['sequence_db']['sequences']\n",
     "        # motifsList = \n",
     "        # for i in range(0,len(['motifs'])):\n",
     "        #     motifsList = a[\"motifs\"][i][\"sites\"]\n",
     "\n",
     "        with open(\"sumMotifs.csv\",'a') as f:\n",
     "            print(\"正在输出%s\"%jsonDict[\"cmd\"][4])\n",
     "            f.write(\",\"+jsonDict[\"cmd\"][4] + \"\\n,,motifName\" + \",motifLen\" + \",geneName\" + \",genePos\" +\",motifSeq\" +\"\\n\")\n",
     "            for i in range(0,len(jsonDict['motifs'])):\n",
     "                f.write( \",,\" + jsonDict[\"motifs\"][i]['alt'] + \",\" +str(jsonDict[\"motifs\"][i]['len'])+ \",,,\"+ jsonDict[\"motifs\"][i]['id'] + \"\\n\")\n",
     "                if descT:\n",
     "                    for y in sorted(jsonDict[\"motifs\"][i][\"sites\"],key=lambda x: (x[\"seq\"],x[\"pos\"])):\n",
     "                        f.write(\",,,,\" + getGeneNameBySeqNum(y[\"seq\"],nameList) + \",\" + str(y[\"pos\"]) + \",\" + y[\"match\"] +\"\\n\")\n",
     "    except FileNotFoundError:\n",
     "        print(f\"No have file\\(meme.html\\) in {d}\")\n",
     "        \n",
     "if __name__ == \"__main__\":\n",
     "    desc = input(\"输入数字以选择对应的文件输出格式：\\n1 输出每个motif及每个基因的基序\\n2 只输出每个motif的基序\")\n",
     "    descT = True\n",
     "    if desc == \"2\":\n",
     "        descT = False\n",
     "    BASE_DIR = os.path.dirname(os.path.abspath(\"__file__\"))\n",
     "    # do something\n",
     "    for root, dirs, files in os.walk(\".\", topdown=False):\n",
     "        pass\n",
     "    for d in dirs:\n",
     "        path = os.path.join(BASE_DIR,d+\"\\meme.html\")\n",
     "        getMotifSeqByMemeHtml(path)\n",
     "    print(\"已完成\")\n",
     "\n",
     "#%\n",
     "\n",
     "\n"
    ],
    "metadata": {
     "collapsed": false
    }
   }
  }
 },
 "nbformat": 4,
 "nbformat_minor": 4
}