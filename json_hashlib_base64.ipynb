{
 "cells": [
  {
   "cell_type": "markdown",
   "metadata": {},
   "source": [
    "## json模块\n",
    "全称JavaScript Object Notation，基于文本，独立于语言的轻量级数据交换格式  \n",
    "不包含使用小括号  ,前台写json，后台写字典\n",
    "    \n",
    "    jumps ：将python数据转换为json\n"
   ]
  },
  {
   "cell_type": "markdown",
   "metadata": {},
   "source": [
    "### dumps() loads()"
   ]
  },
  {
   "cell_type": "code",
   "execution_count": 55,
   "metadata": {},
   "outputs": [
    {
     "name": "stdout",
     "output_type": "stream",
     "text": [
      "{'name': 'li', 'age': 12, 'a': None, 'b': False, 'c': (1, 2, 3), 'd': [1, 2, 3, 4], 'e': {'name': 'zhen'}}\n",
      "{\"name\": \"li\", \"age\": 12, \"a\": null, \"b\": false, \"c\": [1, 2, 3], \"d\": [1, 2, 3, 4], \"e\": {\"name\": \"zhen\"}}\n",
      "{\n",
      "  \"name\": \"li\",\n",
      "  \"age\": 12,\n",
      "  \"a\": null,\n",
      "  \"b\": false,\n",
      "  \"c\": [\n",
      "    1,\n",
      "    2,\n",
      "    3\n",
      "  ],\n",
      "  \"d\": [\n",
      "    1,\n",
      "    2,\n",
      "    3,\n",
      "    4\n",
      "  ],\n",
      "  \"e\": {\n",
      "    \"name\": \"zhen\"\n",
      "  }\n",
      "}\n",
      "{\"name\": \"李\"}\n",
      "{'name': 'li', 'age': 12, 'a': None, 'b': False, 'c': [1, 2, 3], 'd': [1, 2, 3, 4], 'e': {'name': 'zhen'}}\n"
     ]
    }
   ],
   "source": [
    "import json\n",
    "di1 = {'name':'li','age':12,'a':None,'b':False,'c':(1,2,3),'d':[1,2,3,4],'e':{'name':'zhen'}}\n",
    "\n",
    "# dumps() 将python转换为json\n",
    "js1 = json.dumps(di1)\n",
    "print(di1)    # 字典格式\n",
    "print(js1)    # 转换后的格式\n",
    "print(json.dumps(di1,indent = 2)) # 缩进后的格式\n",
    "print(json.dumps({'name':'李'},ensure_ascii = False)) # 不用ascii解析\n",
    "# loads() 将json转换为python\n",
    "print(json.loads(js1))\n"
   ]
  },
  {
   "cell_type": "markdown",
   "metadata": {},
   "source": [
    "### dumo() load()"
   ]
  },
  {
   "cell_type": "code",
   "execution_count": 60,
   "metadata": {},
   "outputs": [
    {
     "name": "stdout",
     "output_type": "stream",
     "text": [
      "{\"name\": \"li\", \"age\": 12, \"a\": null, \"b\": false, \"c\": [1, 2, 3], \"d\": [1, 2, 3, 4], \"e\": {\"name\": \"zhen\"}}\n",
      "{\"name\": \"li\", \"age\": 12, \"a\": null, \"b\": false, \"c\": [1, 2, 3], \"d\": [1, 2, 3, 4], \"e\": {\"name\": \"zhen\"}}\n"
     ]
    }
   ],
   "source": [
    "# dumps() 文件写入保存\n",
    "with open('json1_test','w') as nefile:\n",
    "    nefile.write(json.dumps(js1,ensure_ascii = False))\n",
    "# loads()文件读取\n",
    "with open('json1_test','r') as nefile:\n",
    "    print(json.loads(nefile.read()))\n",
    "    \n",
    "# dump() 文件保存\n",
    "with open('json_test','w') as allfile:\n",
    "\n",
    "    json.dump(js1,ensure_ascii = False,fp = allfile)\n",
    "    \n",
    "# load()文件读取\n",
    "with open('json_test','r') as allfile:\n",
    "    print(json.load(fp = allfile))"
   ]
  },
  {
   "cell_type": "markdown",
   "metadata": {},
   "source": [
    "## hashlib模块\n",
    "只能加密，不能解密\n",
    "提供常用的hash函数，包括MD5和sha系列\n"
   ]
  },
  {
   "cell_type": "code",
   "execution_count": 30,
   "metadata": {},
   "outputs": [
    {
     "name": "stdout",
     "output_type": "stream",
     "text": [
      "b'F\\x90\\x01s\\xa2\\xe6+\\xa5]\\xed\\xac\\xfd\\xfd~tA'\n",
      "<md5 HASH object @ 0x0000025AEFF07720>\n",
      "46900173a2e62ba55dedacfdfd7e7441\n",
      "c16667ca7839a011a548628372ac24f56500a68088eac17e3e7ee6edf9c54125\n"
     ]
    }
   ],
   "source": [
    "import hashlib\n",
    "res = hashlib.new('md5','李'.encode())  # 是中文就要.encode()  等同于 hashlib.md5('李'.encode())\n",
    "print(res.digest()) # 二进制显示\n",
    "print(res)\n",
    "print(res.hexdigest())# 十六进制显示\n",
    "# update:先不写入值，需要的时候就使用下\n",
    "res1 = hashlib.sha256()\n",
    "res1.update('李'.encode())\n",
    "print(res1.hexdigest())\n"
   ]
  },
  {
   "cell_type": "markdown",
   "metadata": {},
   "source": [
    "## base64 模块\n",
    "是一种用64个字符来表示任意二进制数据的方法，将二进制数据编码成ASCII字符。  \n",
    "常用于对url网址进行编码解码"
   ]
  },
  {
   "cell_type": "code",
   "execution_count": 53,
   "metadata": {},
   "outputs": [
    {
     "name": "stdout",
     "output_type": "stream",
     "text": [
      "b'55yf56S85660'\n",
      "b'55yf56S85660YQ=='\n",
      "b'aGFoYeWTiOecn+ekvOeutGHlkq/lkq/lkq/lkq8='\n",
      "b'aGFoYeWTiOecn-ekvOeutGHlkq_lkq_lkq_lkq8='\n",
      "b'55yf56S85660'\n",
      "b'NTV5ZjU2Uzg1NjYw'\n",
      "b'\\xe7\\x9c\\x9f\\xe7\\xa4\\xbc\\xe7\\xae\\xb4'\n",
      "真礼箴\n"
     ]
    }
   ],
   "source": [
    "# 加密\n",
    "import base64\n",
    "data = '真礼箴'  # 字节是三的倍数\n",
    "res = base64.b64encode(data.encode())\n",
    "print(res)\n",
    "data = '真礼箴a'  # 字节不是三的倍数\n",
    "res = base64.b64encode(data.encode())\n",
    "print(res)\n",
    "\n",
    "data = 'haha哈真礼箴a咯咯咯咯'  # 出现了+和\\ 会使url出错\n",
    "res = base64.b64encode(data.encode())\n",
    "print(res)\n",
    "\n",
    "data = 'haha哈真礼箴a咯咯咯咯'  # 将+和\\进行了变换\n",
    "res = base64.urlsafe_b64encode(data.encode())\n",
    "\n",
    "print(res)\n",
    "# 解密\n",
    "data = '真礼箴'  # 字节是三的倍数\n",
    "res = base64.b64encode(data.encode())\n",
    "print(res)\n",
    "print(base64.b64encode(res))\n",
    "print(base64.b64decode(res))\n",
    "print(base64.b64decode(res).decode())\n"
   ]
  },
  {
   "cell_type": "code",
   "execution_count": 56,
   "metadata": {},
   "outputs": [
    {
     "name": "stdout",
     "output_type": "stream",
     "text": [
      "3\n"
     ]
    }
   ],
   "source": [
    "di = {'a':[1,2,3]}\n",
    "print(di['a'][2])"
   ]
  },
  {
   "cell_type": "code",
   "execution_count": null,
   "metadata": {},
   "outputs": [],
   "source": []
  }
 ],
 "metadata": {
  "kernelspec": {
   "display_name": "Python 3",
   "language": "python",
   "name": "python3"
  },
  "language_info": {
   "codemirror_mode": {
    "name": "ipython",
    "version": 3
   },
   "file_extension": ".py",
   "mimetype": "text/x-python",
   "name": "python",
   "nbconvert_exporter": "python",
   "pygments_lexer": "ipython3",
   "version": "3.7.4"
  }
 },
 "nbformat": 4,
 "nbformat_minor": 2
}
