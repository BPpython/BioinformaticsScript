{
 "cells": [
  {
   "cell_type": "code",
   "execution_count": 2,
   "metadata": {},
   "outputs": [],
   "source": [
    "import pandas as pd\n",
    "import os"
   ]
  },
  {
   "cell_type": "markdown",
   "metadata": {},
   "source": [
    "## version_1.0"
   ]
  },
  {
   "cell_type": "code",
   "execution_count": 2,
   "metadata": {},
   "outputs": [
    {
     "name": "stderr",
     "output_type": "stream",
     "text": [
      "C:\\ProgramData\\Anaconda3\\lib\\site-packages\\IPython\\core\\interactiveshell.py:3058: DtypeWarning: Columns (0) have mixed types. Specify dtype option on import or set low_memory=False.\n",
      "  interactivity=interactivity, compiler=compiler, result=result)\n"
     ]
    },
    {
     "name": "stdout",
     "output_type": "stream",
     "text": [
      "1. 文件加载完毕\n"
     ]
    }
   ],
   "source": [
    "# 读取文件\n",
    "# 基因Id转换文件\n",
    "data = pd.read_csv(\"D:/share/all_only_one_transcription.csv\",header=0,index_col= 0)\n",
    "# gtf获取文件\n",
    "data_1 = pd.read_table(\"D:/share/AT_GL_SL_ZM_SB_OS.gtf\",header=0,index_col= None)\n",
    "# 添加列名\n",
    "data_1.columns = [\"CHR_num\",\"ENA\",\"type\",\"star\",\"end\",\"dott\",\"strain\",\"doze\",\"detail\"]\n",
    "# 需要提取gtf的GeneId文件\n",
    "ID = pd.read_table(\"D:/share/Starch_ID.txt\",header=None,index_col= None)\n",
    "\n",
    "print(\"1. 文件加载完成\")"
   ]
  },
  {
   "cell_type": "code",
   "execution_count": 4,
   "metadata": {},
   "outputs": [
    {
     "name": "stdout",
     "output_type": "stream",
     "text": [
      "2. 分裂完成\n",
      "3. 合并完成\n"
     ]
    }
   ],
   "source": [
    "# 将detail一列分裂提取TraId，expand为True则是可以直接分列\n",
    "b = pd.DataFrame(data_1.detail.str.split(\":\",expand = True).iloc[:,1].str.split('\"',expand = True).iloc[:,0])\n",
    "# 添加列名\n",
    "b.columns = [\"Tr_ID\"]\n",
    "\n",
    "print(\"2. 分裂完成\")\n",
    "# 合并两个dataframe，组成一个\n",
    "data_2 = pd.concat([data_1,b],axis = 1)\n",
    "print(\"3. 合并完成\")"
   ]
  },
  {
   "cell_type": "code",
   "execution_count": 5,
   "metadata": {},
   "outputs": [
    {
     "name": "stdout",
     "output_type": "stream",
     "text": [
      "4. 基因ID-->转录本ID转换完成\n"
     ]
    }
   ],
   "source": [
    "# 1. 根据GeneId获取得到相应的TranId并存放于列表save_info\n",
    "l = 1\n",
    "save_info = []\n",
    "for i in ID.iloc[0:,0]:\n",
    "    l += 1 \n",
    "    save_info.extend(list(data[data.GENE_ID == i].TR_ID))\n",
    "print(\"4. 基因ID-->转录本ID转换完成\")"
   ]
  },
  {
   "cell_type": "code",
   "execution_count": 6,
   "metadata": {},
   "outputs": [
    {
     "name": "stdout",
     "output_type": "stream",
     "text": [
      "5. 转录本结构信息提取完成\n"
     ]
    }
   ],
   "source": [
    "# 2. 根据TranID提取相应的gtf信息\n",
    "save_list = []\n",
    "for i in save_info:\n",
    "    save_list.extend(data_2[data_2.Tr_ID.isin([i])].index.tolist())\n",
    "print(\"5. 转录本结构信息提取完成\")"
   ]
  },
  {
   "cell_type": "code",
   "execution_count": 7,
   "metadata": {},
   "outputs": [],
   "source": [
    "# 将转录本ID转换为基因ID，并删除多余列形成Tbtools格式\n",
    "a = data_2.iloc[save_list]\n",
    "# 替换为GeneID\n",
    "l = 0\n",
    "for i in ID.iloc[0:,0]:\n",
    "    a = a.replace(save_info[l],i)\n",
    "    l += 1\n",
    "    \n",
    "# data_2.drop(\"TR_ID\",axis = 1)\n",
    "a[\"TR_ID\"] = 'transcript_id \"' + a[\"Tr_ID\"] + '\"'\n",
    "# 删除多余列\n",
    "a = a.drop([\"detail\",\"Tr_ID\"],axis = 1)"
   ]
  },
  {
   "cell_type": "code",
   "execution_count": 8,
   "metadata": {},
   "outputs": [
    {
     "name": "stdout",
     "output_type": "stream",
     "text": [
      "6. 文件已导出\n",
      "7. 提取完成；存放在-> D:/share/Starch_ID_gtf.txt\n"
     ]
    }
   ],
   "source": [
    "# 导出文件\n",
    "a.to_csv(\"D:/share/Starch_ID_gtf.txt\",index = None,header=False,sep = \"\\t\")\n",
    "print(\"6. 文件已导出\")\n",
    "# 写入文件\n",
    "final_list = []\n",
    "with open(\"D:/share/Starch_ID_gtf.txt\",'r') as file:\n",
    "    aa = file.readlines()\n",
    "    for i in aa:\n",
    "        i = i.replace('\\t\"','\\t')\n",
    "        i = i.replace('\"\\n','\\n')\n",
    "        i = i.replace('\"\"','\"')\n",
    "        final_list.append(i)\n",
    "with open(\"D:/share/Starch_ID_gtf.txt\",\"w\") as file_1:\n",
    "    file_1.writelines(final_list)\n",
    "print(\"7. 提取完成；存放在-> D:/share/Starch_ID_gtf.txt\")"
   ]
  },
  {
   "cell_type": "code",
   "execution_count": 5,
   "metadata": {},
   "outputs": [
    {
     "name": "stderr",
     "output_type": "stream",
     "text": [
      "C:\\ProgramData\\Anaconda3\\lib\\site-packages\\IPython\\core\\interactiveshell.py:3058: DtypeWarning: Columns (1) have mixed types. Specify dtype option on import or set low_memory=False.\n",
      "  interactivity=interactivity, compiler=compiler, result=result)\n",
      "C:\\ProgramData\\Anaconda3\\lib\\site-packages\\numpy\\lib\\arraysetops.py:569: FutureWarning: elementwise comparison failed; returning scalar instead, but in the future will perform elementwise comparison\n",
      "  mask |= (ar1 == a)\n"
     ]
    }
   ],
   "source": [
    "data_2 = pd.read_csv(\"D:/share/AT_GL_SL_ZM_SB_OS_add_Tr.gtf\",header=0,index_col= 0)"
   ]
  },
  {
   "cell_type": "code",
   "execution_count": 6,
   "metadata": {},
   "outputs": [
    {
     "data": {
      "text/html": [
       "<div>\n",
       "<style scoped>\n",
       "    .dataframe tbody tr th:only-of-type {\n",
       "        vertical-align: middle;\n",
       "    }\n",
       "\n",
       "    .dataframe tbody tr th {\n",
       "        vertical-align: top;\n",
       "    }\n",
       "\n",
       "    .dataframe thead th {\n",
       "        text-align: right;\n",
       "    }\n",
       "</style>\n",
       "<table border=\"1\" class=\"dataframe\">\n",
       "  <thead>\n",
       "    <tr style=\"text-align: right;\">\n",
       "      <th></th>\n",
       "      <th>CHR_num</th>\n",
       "      <th>ENA</th>\n",
       "      <th>type</th>\n",
       "      <th>star</th>\n",
       "      <th>end</th>\n",
       "      <th>dott</th>\n",
       "      <th>strain</th>\n",
       "      <th>doze</th>\n",
       "      <th>detail</th>\n",
       "      <th>Tr_ID</th>\n",
       "    </tr>\n",
       "  </thead>\n",
       "  <tbody>\n",
       "    <tr>\n",
       "      <td>0</td>\n",
       "      <td>1</td>\n",
       "      <td>ena</td>\n",
       "      <td>exon</td>\n",
       "      <td>2473</td>\n",
       "      <td>2616</td>\n",
       "      <td>.</td>\n",
       "      <td>+</td>\n",
       "      <td>.</td>\n",
       "      <td>transcript_id \"transcript:EER90453\"; gene_id \"...</td>\n",
       "      <td>EER90453</td>\n",
       "    </tr>\n",
       "    <tr>\n",
       "      <td>1</td>\n",
       "      <td>1</td>\n",
       "      <td>ena</td>\n",
       "      <td>CDS</td>\n",
       "      <td>1951</td>\n",
       "      <td>2454</td>\n",
       "      <td>.</td>\n",
       "      <td>+</td>\n",
       "      <td>0</td>\n",
       "      <td>transcript_id \"transcript:EER90453\"; gene_id \"...</td>\n",
       "      <td>EER90453</td>\n",
       "    </tr>\n",
       "    <tr>\n",
       "      <td>2</td>\n",
       "      <td>1</td>\n",
       "      <td>ena</td>\n",
       "      <td>CDS</td>\n",
       "      <td>2473</td>\n",
       "      <td>2616</td>\n",
       "      <td>.</td>\n",
       "      <td>+</td>\n",
       "      <td>0</td>\n",
       "      <td>transcript_id \"transcript:EER90453\"; gene_id \"...</td>\n",
       "      <td>EER90453</td>\n",
       "    </tr>\n",
       "    <tr>\n",
       "      <td>3</td>\n",
       "      <td>1</td>\n",
       "      <td>RAP2018-11-26</td>\n",
       "      <td>exon</td>\n",
       "      <td>2983</td>\n",
       "      <td>3268</td>\n",
       "      <td>.</td>\n",
       "      <td>+</td>\n",
       "      <td>.</td>\n",
       "      <td>transcript_id \"transcript:Os01t0100100-01\"; ge...</td>\n",
       "      <td>Os01t0100100-01</td>\n",
       "    </tr>\n",
       "    <tr>\n",
       "      <td>4</td>\n",
       "      <td>1</td>\n",
       "      <td>RAP2018-11-26</td>\n",
       "      <td>exon</td>\n",
       "      <td>3354</td>\n",
       "      <td>3616</td>\n",
       "      <td>.</td>\n",
       "      <td>+</td>\n",
       "      <td>.</td>\n",
       "      <td>transcript_id \"transcript:Os01t0100100-01\"; ge...</td>\n",
       "      <td>Os01t0100100-01</td>\n",
       "    </tr>\n",
       "  </tbody>\n",
       "</table>\n",
       "</div>"
      ],
      "text/plain": [
       "  CHR_num            ENA  type  star   end dott strain doze  \\\n",
       "0       1            ena  exon  2473  2616    .      +    .   \n",
       "1       1            ena   CDS  1951  2454    .      +    0   \n",
       "2       1            ena   CDS  2473  2616    .      +    0   \n",
       "3       1  RAP2018-11-26  exon  2983  3268    .      +    .   \n",
       "4       1  RAP2018-11-26  exon  3354  3616    .      +    .   \n",
       "\n",
       "                                              detail            Tr_ID  \n",
       "0  transcript_id \"transcript:EER90453\"; gene_id \"...         EER90453  \n",
       "1  transcript_id \"transcript:EER90453\"; gene_id \"...         EER90453  \n",
       "2  transcript_id \"transcript:EER90453\"; gene_id \"...         EER90453  \n",
       "3  transcript_id \"transcript:Os01t0100100-01\"; ge...  Os01t0100100-01  \n",
       "4  transcript_id \"transcript:Os01t0100100-01\"; ge...  Os01t0100100-01  "
      ]
     },
     "execution_count": 6,
     "metadata": {},
     "output_type": "execute_result"
    }
   ],
   "source": [
    "data_2.head()"
   ]
  },
  {
   "cell_type": "code",
   "execution_count": null,
   "metadata": {},
   "outputs": [],
   "source": []
  },
  {
   "cell_type": "markdown",
   "metadata": {},
   "source": [
    "## version_2.0"
   ]
  },
  {
   "cell_type": "code",
   "execution_count": null,
   "metadata": {},
   "outputs": [],
   "source": [
    "import pandas as pd\n",
    "import os\n",
    "\n",
    "# 完整版\n",
    "# 读取文件\n",
    "# 基因Id转换文件\n",
    "data = pd.read_csv(\"D:/share/all_only_one_transcription.csv\",header=0,index_col= 0)\n",
    "# 需要提取gtf的GeneId文件\n",
    "ID = pd.read_table(\"D:/share/Starch_ID.txt\",header=None,index_col= None)\n",
    "\n",
    "if os.path.exists(\"D:/share/AT_GL_SL_ZM_SB_OS_add_Tr.gtf\"):\n",
    "    data_2 = pd.read_csv(\"D:/share/AT_GL_SL_ZM_SB_OS_add_Tr.gtf\",header=0,index_col= 0)\n",
    "    # 1. 根据GeneId获取得到相应的TranId并存放于列表save_info\n",
    "    l = 1\n",
    "    save_info = []\n",
    "    for i in ID.iloc[0:,0]:\n",
    "        l += 1 \n",
    "        save_info.extend(list(data[data.GENE_ID == i].TR_ID))\n",
    "    print(\"1. 基因ID-->转录本ID转换完成\")\n",
    "    \n",
    "    # 2. 根据TranID提取相应的gtf信息\n",
    "    save_list = []\n",
    "    for i in save_info:\n",
    "        save_list.extend(data_2[data_2.Tr_ID.isin([i])].index.tolist())\n",
    "    print(\"2. 转录本结构信息提取完成\")\n",
    "    \n",
    "    # 将转录本ID转换为基因ID，并删除多余列形成Tbtools格式\n",
    "    a = data_2.iloc[save_list]\n",
    "    # 替换为GeneID\n",
    "    l = 0\n",
    "    for i in ID.iloc[0:,0]:\n",
    "        a = a.replace(save_info[l],i)\n",
    "        l += 1\n",
    "\n",
    "    # data_2.drop(\"TR_ID\",axis = 1)\n",
    "    a[\"TR_ID\"] = 'transcript_id \"' + a[\"Tr_ID\"] + '\"'\n",
    "    # 删除多余列\n",
    "    a = a.drop([\"detail\",\"Tr_ID\"],axis = 1)\n",
    "    \n",
    "    # 导出文件\n",
    "    a.to_csv(\"D:/share/Starch_ID_gtf.txt\",index = None,header=False,sep = \"\\t\")\n",
    "    print(\"3. 文件已导出\")\n",
    "    # 写入文件\n",
    "    final_list = []\n",
    "    with open(\"D:/share/Starch_ID_gtf.txt\",'r') as file:\n",
    "        aa = file.readlines()\n",
    "        for i in aa:\n",
    "            i = i.replace('\\t\"','\\t')\n",
    "            i = i.replace('\"\\n','\\n')\n",
    "            i = i.replace('\"\"','\"')\n",
    "            final_list.append(i)\n",
    "    with open(\"D:/share/Starch_ID_gtf.txt\",\"w\") as file_1:\n",
    "        file_1.writelines(final_list)\n",
    "    print(\"4. 提取完成；存放在-> D:/share/Starch_ID_gtf.txt\")"
   ]
  }
 ],
 "metadata": {
  "kernelspec": {
   "display_name": "Python 3",
   "language": "python",
   "name": "python3"
  },
  "language_info": {
   "codemirror_mode": {
    "name": "ipython",
    "version": 3
   },
   "file_extension": ".py",
   "mimetype": "text/x-python",
   "name": "python",
   "nbconvert_exporter": "python",
   "pygments_lexer": "ipython3",
   "version": "3.7.4"
  }
 },
 "nbformat": 4,
 "nbformat_minor": 2
}
